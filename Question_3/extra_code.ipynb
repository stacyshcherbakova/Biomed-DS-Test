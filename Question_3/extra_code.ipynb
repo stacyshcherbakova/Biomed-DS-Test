{
 "cells": [
  {
   "cell_type": "markdown",
   "id": "1ba2b068",
   "metadata": {},
   "source": [
    "# Testing Logistic regression on a dataset with and without duplicates "
   ]
  },
  {
   "cell_type": "markdown",
   "id": "e6ad17c4",
   "metadata": {},
   "source": [
    "### Generating a synthetic dataset (no duplicates)"
   ]
  },
  {
   "cell_type": "code",
   "execution_count": 1,
   "id": "6b0b6939",
   "metadata": {},
   "outputs": [],
   "source": [
    "import pandas as pd\n",
    "from sklearn.datasets import make_classification\n",
    "from sklearn.model_selection import train_test_split\n",
    "from sklearn.ensemble import RandomForestClassifier\n",
    "from sklearn.metrics import classification_report"
   ]
  },
  {
   "cell_type": "markdown",
   "id": "d74db119",
   "metadata": {},
   "source": [
    "no duplicates example"
   ]
  },
  {
   "cell_type": "code",
   "execution_count": 2,
   "id": "c4d4e645",
   "metadata": {},
   "outputs": [],
   "source": [
    "X, y =make_classification(n_samples=2000, n_features=100, n_informative=30, n_redundant=70,\n",
    "                    n_classes=10, n_clusters_per_class=1, random_state=12345)"
   ]
  },
  {
   "cell_type": "code",
   "execution_count": 3,
   "id": "bd4427de",
   "metadata": {},
   "outputs": [],
   "source": [
    "df_X = pd.DataFrame(X, columns=list(range(1,101)))"
   ]
  },
  {
   "cell_type": "code",
   "execution_count": 4,
   "id": "164a26c6",
   "metadata": {},
   "outputs": [],
   "source": [
    "df_y = y"
   ]
  },
  {
   "cell_type": "code",
   "execution_count": 5,
   "id": "3d95e229",
   "metadata": {},
   "outputs": [],
   "source": [
    "X_train, X_test, y_train, y_test = train_test_split(df_X, df_y, test_size = 0.25, train_size = 0.75, stratify = df_y, random_state = 12345)"
   ]
  },
  {
   "cell_type": "code",
   "execution_count": 6,
   "id": "92630819",
   "metadata": {},
   "outputs": [],
   "source": [
    "model=RandomForestClassifier(random_state = 12345)"
   ]
  },
  {
   "cell_type": "code",
   "execution_count": 7,
   "id": "6d4bc68f",
   "metadata": {},
   "outputs": [
    {
     "data": {
      "text/html": [
       "<style>#sk-container-id-1 {color: black;background-color: white;}#sk-container-id-1 pre{padding: 0;}#sk-container-id-1 div.sk-toggleable {background-color: white;}#sk-container-id-1 label.sk-toggleable__label {cursor: pointer;display: block;width: 100%;margin-bottom: 0;padding: 0.3em;box-sizing: border-box;text-align: center;}#sk-container-id-1 label.sk-toggleable__label-arrow:before {content: \"▸\";float: left;margin-right: 0.25em;color: #696969;}#sk-container-id-1 label.sk-toggleable__label-arrow:hover:before {color: black;}#sk-container-id-1 div.sk-estimator:hover label.sk-toggleable__label-arrow:before {color: black;}#sk-container-id-1 div.sk-toggleable__content {max-height: 0;max-width: 0;overflow: hidden;text-align: left;background-color: #f0f8ff;}#sk-container-id-1 div.sk-toggleable__content pre {margin: 0.2em;color: black;border-radius: 0.25em;background-color: #f0f8ff;}#sk-container-id-1 input.sk-toggleable__control:checked~div.sk-toggleable__content {max-height: 200px;max-width: 100%;overflow: auto;}#sk-container-id-1 input.sk-toggleable__control:checked~label.sk-toggleable__label-arrow:before {content: \"▾\";}#sk-container-id-1 div.sk-estimator input.sk-toggleable__control:checked~label.sk-toggleable__label {background-color: #d4ebff;}#sk-container-id-1 div.sk-label input.sk-toggleable__control:checked~label.sk-toggleable__label {background-color: #d4ebff;}#sk-container-id-1 input.sk-hidden--visually {border: 0;clip: rect(1px 1px 1px 1px);clip: rect(1px, 1px, 1px, 1px);height: 1px;margin: -1px;overflow: hidden;padding: 0;position: absolute;width: 1px;}#sk-container-id-1 div.sk-estimator {font-family: monospace;background-color: #f0f8ff;border: 1px dotted black;border-radius: 0.25em;box-sizing: border-box;margin-bottom: 0.5em;}#sk-container-id-1 div.sk-estimator:hover {background-color: #d4ebff;}#sk-container-id-1 div.sk-parallel-item::after {content: \"\";width: 100%;border-bottom: 1px solid gray;flex-grow: 1;}#sk-container-id-1 div.sk-label:hover label.sk-toggleable__label {background-color: #d4ebff;}#sk-container-id-1 div.sk-serial::before {content: \"\";position: absolute;border-left: 1px solid gray;box-sizing: border-box;top: 0;bottom: 0;left: 50%;z-index: 0;}#sk-container-id-1 div.sk-serial {display: flex;flex-direction: column;align-items: center;background-color: white;padding-right: 0.2em;padding-left: 0.2em;position: relative;}#sk-container-id-1 div.sk-item {position: relative;z-index: 1;}#sk-container-id-1 div.sk-parallel {display: flex;align-items: stretch;justify-content: center;background-color: white;position: relative;}#sk-container-id-1 div.sk-item::before, #sk-container-id-1 div.sk-parallel-item::before {content: \"\";position: absolute;border-left: 1px solid gray;box-sizing: border-box;top: 0;bottom: 0;left: 50%;z-index: -1;}#sk-container-id-1 div.sk-parallel-item {display: flex;flex-direction: column;z-index: 1;position: relative;background-color: white;}#sk-container-id-1 div.sk-parallel-item:first-child::after {align-self: flex-end;width: 50%;}#sk-container-id-1 div.sk-parallel-item:last-child::after {align-self: flex-start;width: 50%;}#sk-container-id-1 div.sk-parallel-item:only-child::after {width: 0;}#sk-container-id-1 div.sk-dashed-wrapped {border: 1px dashed gray;margin: 0 0.4em 0.5em 0.4em;box-sizing: border-box;padding-bottom: 0.4em;background-color: white;}#sk-container-id-1 div.sk-label label {font-family: monospace;font-weight: bold;display: inline-block;line-height: 1.2em;}#sk-container-id-1 div.sk-label-container {text-align: center;}#sk-container-id-1 div.sk-container {/* jupyter's `normalize.less` sets `[hidden] { display: none; }` but bootstrap.min.css set `[hidden] { display: none !important; }` so we also need the `!important` here to be able to override the default hidden behavior on the sphinx rendered scikit-learn.org. See: https://github.com/scikit-learn/scikit-learn/issues/21755 */display: inline-block !important;position: relative;}#sk-container-id-1 div.sk-text-repr-fallback {display: none;}</style><div id=\"sk-container-id-1\" class=\"sk-top-container\"><div class=\"sk-text-repr-fallback\"><pre>RandomForestClassifier(random_state=12345)</pre><b>In a Jupyter environment, please rerun this cell to show the HTML representation or trust the notebook. <br />On GitHub, the HTML representation is unable to render, please try loading this page with nbviewer.org.</b></div><div class=\"sk-container\" hidden><div class=\"sk-item\"><div class=\"sk-estimator sk-toggleable\"><input class=\"sk-toggleable__control sk-hidden--visually\" id=\"sk-estimator-id-1\" type=\"checkbox\" checked><label for=\"sk-estimator-id-1\" class=\"sk-toggleable__label sk-toggleable__label-arrow\">RandomForestClassifier</label><div class=\"sk-toggleable__content\"><pre>RandomForestClassifier(random_state=12345)</pre></div></div></div></div></div>"
      ],
      "text/plain": [
       "RandomForestClassifier(random_state=12345)"
      ]
     },
     "execution_count": 7,
     "metadata": {},
     "output_type": "execute_result"
    }
   ],
   "source": [
    "model.fit(X_train, y_train)"
   ]
  },
  {
   "cell_type": "code",
   "execution_count": 8,
   "id": "3add9579",
   "metadata": {},
   "outputs": [
    {
     "name": "stdout",
     "output_type": "stream",
     "text": [
      "              precision    recall  f1-score   support\n",
      "\n",
      "           0       0.65      0.66      0.65        50\n",
      "           1       0.80      0.76      0.78        49\n",
      "           2       0.67      0.73      0.70        49\n",
      "           3       0.54      0.57      0.55        51\n",
      "           4       0.73      0.66      0.69        50\n",
      "           5       0.66      0.78      0.72        50\n",
      "           6       0.71      0.80      0.75        50\n",
      "           7       0.86      0.63      0.73        49\n",
      "           8       0.81      0.69      0.74        51\n",
      "           9       0.70      0.76      0.73        51\n",
      "\n",
      "    accuracy                           0.70       500\n",
      "   macro avg       0.71      0.70      0.71       500\n",
      "weighted avg       0.71      0.70      0.70       500\n",
      "\n"
     ]
    }
   ],
   "source": [
    "y_pred=model.predict(X_test)\n",
    "print(classification_report(y_test, y_pred))"
   ]
  },
  {
   "cell_type": "markdown",
   "id": "b6ac3480",
   "metadata": {},
   "source": [
    "### Generating a synthetic dataset with datasets"
   ]
  },
  {
   "cell_type": "code",
   "execution_count": 9,
   "id": "b5355e88",
   "metadata": {},
   "outputs": [],
   "source": [
    "X, y = make_classification(n_samples=2000, n_features=100, n_informative=30, n_redundant=70,\n",
    "                    n_classes=10, n_clusters_per_class=1, random_state=12345)"
   ]
  },
  {
   "cell_type": "code",
   "execution_count": 10,
   "id": "6432f0c7",
   "metadata": {},
   "outputs": [],
   "source": [
    "df = pd.DataFrame(X, columns=list(range(1,101)))"
   ]
  },
  {
   "cell_type": "code",
   "execution_count": 11,
   "id": "75444918",
   "metadata": {},
   "outputs": [],
   "source": [
    "df['class'] = y"
   ]
  },
  {
   "cell_type": "code",
   "execution_count": 12,
   "id": "0c874348",
   "metadata": {},
   "outputs": [],
   "source": [
    "df_first_50 = df.iloc[:50]"
   ]
  },
  {
   "cell_type": "code",
   "execution_count": 13,
   "id": "9a63c73f",
   "metadata": {},
   "outputs": [
    {
     "data": {
      "text/html": [
       "<div>\n",
       "<style scoped>\n",
       "    .dataframe tbody tr th:only-of-type {\n",
       "        vertical-align: middle;\n",
       "    }\n",
       "\n",
       "    .dataframe tbody tr th {\n",
       "        vertical-align: top;\n",
       "    }\n",
       "\n",
       "    .dataframe thead th {\n",
       "        text-align: right;\n",
       "    }\n",
       "</style>\n",
       "<table border=\"1\" class=\"dataframe\">\n",
       "  <thead>\n",
       "    <tr style=\"text-align: right;\">\n",
       "      <th></th>\n",
       "      <th>1</th>\n",
       "      <th>2</th>\n",
       "      <th>3</th>\n",
       "      <th>4</th>\n",
       "      <th>5</th>\n",
       "      <th>6</th>\n",
       "      <th>7</th>\n",
       "      <th>8</th>\n",
       "      <th>9</th>\n",
       "      <th>10</th>\n",
       "      <th>...</th>\n",
       "      <th>92</th>\n",
       "      <th>93</th>\n",
       "      <th>94</th>\n",
       "      <th>95</th>\n",
       "      <th>96</th>\n",
       "      <th>97</th>\n",
       "      <th>98</th>\n",
       "      <th>99</th>\n",
       "      <th>100</th>\n",
       "      <th>class</th>\n",
       "    </tr>\n",
       "  </thead>\n",
       "  <tbody>\n",
       "    <tr>\n",
       "      <th>0</th>\n",
       "      <td>-7.399716</td>\n",
       "      <td>7.139481</td>\n",
       "      <td>-0.258633</td>\n",
       "      <td>-5.053021</td>\n",
       "      <td>2.484434</td>\n",
       "      <td>8.082464</td>\n",
       "      <td>3.369002</td>\n",
       "      <td>-3.101034</td>\n",
       "      <td>-19.057729</td>\n",
       "      <td>5.630944</td>\n",
       "      <td>...</td>\n",
       "      <td>6.649029</td>\n",
       "      <td>-0.482377</td>\n",
       "      <td>1.298302</td>\n",
       "      <td>-2.656180</td>\n",
       "      <td>0.646447</td>\n",
       "      <td>1.036012</td>\n",
       "      <td>-10.469010</td>\n",
       "      <td>-8.686394</td>\n",
       "      <td>-8.277129</td>\n",
       "      <td>3</td>\n",
       "    </tr>\n",
       "    <tr>\n",
       "      <th>1</th>\n",
       "      <td>-16.639485</td>\n",
       "      <td>-12.280839</td>\n",
       "      <td>15.260885</td>\n",
       "      <td>-9.317742</td>\n",
       "      <td>-0.377278</td>\n",
       "      <td>-4.797686</td>\n",
       "      <td>6.463178</td>\n",
       "      <td>-5.874903</td>\n",
       "      <td>-18.849125</td>\n",
       "      <td>11.835292</td>\n",
       "      <td>...</td>\n",
       "      <td>-1.781684</td>\n",
       "      <td>-2.253119</td>\n",
       "      <td>-0.022432</td>\n",
       "      <td>-6.909910</td>\n",
       "      <td>14.263716</td>\n",
       "      <td>7.515207</td>\n",
       "      <td>5.022184</td>\n",
       "      <td>0.457173</td>\n",
       "      <td>3.230131</td>\n",
       "      <td>1</td>\n",
       "    </tr>\n",
       "    <tr>\n",
       "      <th>2</th>\n",
       "      <td>15.355822</td>\n",
       "      <td>7.565411</td>\n",
       "      <td>-3.145851</td>\n",
       "      <td>-11.926820</td>\n",
       "      <td>6.477332</td>\n",
       "      <td>-13.995770</td>\n",
       "      <td>4.344364</td>\n",
       "      <td>-8.961307</td>\n",
       "      <td>36.083471</td>\n",
       "      <td>-4.712912</td>\n",
       "      <td>...</td>\n",
       "      <td>-10.437824</td>\n",
       "      <td>3.797600</td>\n",
       "      <td>4.103066</td>\n",
       "      <td>-1.581752</td>\n",
       "      <td>-25.855940</td>\n",
       "      <td>4.321968</td>\n",
       "      <td>-4.201655</td>\n",
       "      <td>1.252183</td>\n",
       "      <td>1.875502</td>\n",
       "      <td>2</td>\n",
       "    </tr>\n",
       "    <tr>\n",
       "      <th>3</th>\n",
       "      <td>1.746259</td>\n",
       "      <td>9.655583</td>\n",
       "      <td>9.094123</td>\n",
       "      <td>17.289277</td>\n",
       "      <td>-0.257277</td>\n",
       "      <td>5.686839</td>\n",
       "      <td>-11.267928</td>\n",
       "      <td>-2.296214</td>\n",
       "      <td>-35.580863</td>\n",
       "      <td>17.459162</td>\n",
       "      <td>...</td>\n",
       "      <td>4.224824</td>\n",
       "      <td>-2.299140</td>\n",
       "      <td>-7.205907</td>\n",
       "      <td>-5.622090</td>\n",
       "      <td>7.383644</td>\n",
       "      <td>-8.954780</td>\n",
       "      <td>-17.825772</td>\n",
       "      <td>-13.395244</td>\n",
       "      <td>-7.968702</td>\n",
       "      <td>2</td>\n",
       "    </tr>\n",
       "    <tr>\n",
       "      <th>4</th>\n",
       "      <td>-27.427293</td>\n",
       "      <td>-19.028408</td>\n",
       "      <td>-2.699808</td>\n",
       "      <td>-5.219483</td>\n",
       "      <td>3.698449</td>\n",
       "      <td>15.596120</td>\n",
       "      <td>-14.883694</td>\n",
       "      <td>20.082762</td>\n",
       "      <td>-11.150458</td>\n",
       "      <td>25.706732</td>\n",
       "      <td>...</td>\n",
       "      <td>1.545061</td>\n",
       "      <td>4.019271</td>\n",
       "      <td>-5.605206</td>\n",
       "      <td>-0.719066</td>\n",
       "      <td>-6.391155</td>\n",
       "      <td>-13.718956</td>\n",
       "      <td>31.175127</td>\n",
       "      <td>-23.006289</td>\n",
       "      <td>22.915178</td>\n",
       "      <td>6</td>\n",
       "    </tr>\n",
       "  </tbody>\n",
       "</table>\n",
       "<p>5 rows × 101 columns</p>\n",
       "</div>"
      ],
      "text/plain": [
       "           1          2          3          4         5          6          7  \\\n",
       "0  -7.399716   7.139481  -0.258633  -5.053021  2.484434   8.082464   3.369002   \n",
       "1 -16.639485 -12.280839  15.260885  -9.317742 -0.377278  -4.797686   6.463178   \n",
       "2  15.355822   7.565411  -3.145851 -11.926820  6.477332 -13.995770   4.344364   \n",
       "3   1.746259   9.655583   9.094123  17.289277 -0.257277   5.686839 -11.267928   \n",
       "4 -27.427293 -19.028408  -2.699808  -5.219483  3.698449  15.596120 -14.883694   \n",
       "\n",
       "           8          9         10  ...         92        93        94  \\\n",
       "0  -3.101034 -19.057729   5.630944  ...   6.649029 -0.482377  1.298302   \n",
       "1  -5.874903 -18.849125  11.835292  ...  -1.781684 -2.253119 -0.022432   \n",
       "2  -8.961307  36.083471  -4.712912  ... -10.437824  3.797600  4.103066   \n",
       "3  -2.296214 -35.580863  17.459162  ...   4.224824 -2.299140 -7.205907   \n",
       "4  20.082762 -11.150458  25.706732  ...   1.545061  4.019271 -5.605206   \n",
       "\n",
       "         95         96         97         98         99        100  class  \n",
       "0 -2.656180   0.646447   1.036012 -10.469010  -8.686394  -8.277129      3  \n",
       "1 -6.909910  14.263716   7.515207   5.022184   0.457173   3.230131      1  \n",
       "2 -1.581752 -25.855940   4.321968  -4.201655   1.252183   1.875502      2  \n",
       "3 -5.622090   7.383644  -8.954780 -17.825772 -13.395244  -7.968702      2  \n",
       "4 -0.719066  -6.391155 -13.718956  31.175127 -23.006289  22.915178      6  \n",
       "\n",
       "[5 rows x 101 columns]"
      ]
     },
     "execution_count": 13,
     "metadata": {},
     "output_type": "execute_result"
    }
   ],
   "source": [
    "df_first_50.head(5)"
   ]
  },
  {
   "cell_type": "code",
   "execution_count": 14,
   "id": "56a69aa9",
   "metadata": {},
   "outputs": [],
   "source": [
    "df_repeated = pd.concat([df, pd.concat([df_first_50]*10)], ignore_index=True)"
   ]
  },
  {
   "cell_type": "code",
   "execution_count": 15,
   "id": "421da76f",
   "metadata": {},
   "outputs": [],
   "source": [
    "df_X = df_repeated.drop('class', axis = 1)"
   ]
  },
  {
   "cell_type": "code",
   "execution_count": 16,
   "id": "c8a497fd",
   "metadata": {},
   "outputs": [],
   "source": [
    "df_y = df_repeated['class']"
   ]
  },
  {
   "cell_type": "code",
   "execution_count": 17,
   "id": "08ca9012",
   "metadata": {},
   "outputs": [],
   "source": [
    "X_train, X_test, y_train, y_test = train_test_split(df_X, df_y, test_size = 0.25, train_size = 0.75, stratify = df_y, random_state = 12345)"
   ]
  },
  {
   "cell_type": "code",
   "execution_count": 18,
   "id": "fba74e8e",
   "metadata": {},
   "outputs": [
    {
     "data": {
      "text/html": [
       "<style>#sk-container-id-2 {color: black;background-color: white;}#sk-container-id-2 pre{padding: 0;}#sk-container-id-2 div.sk-toggleable {background-color: white;}#sk-container-id-2 label.sk-toggleable__label {cursor: pointer;display: block;width: 100%;margin-bottom: 0;padding: 0.3em;box-sizing: border-box;text-align: center;}#sk-container-id-2 label.sk-toggleable__label-arrow:before {content: \"▸\";float: left;margin-right: 0.25em;color: #696969;}#sk-container-id-2 label.sk-toggleable__label-arrow:hover:before {color: black;}#sk-container-id-2 div.sk-estimator:hover label.sk-toggleable__label-arrow:before {color: black;}#sk-container-id-2 div.sk-toggleable__content {max-height: 0;max-width: 0;overflow: hidden;text-align: left;background-color: #f0f8ff;}#sk-container-id-2 div.sk-toggleable__content pre {margin: 0.2em;color: black;border-radius: 0.25em;background-color: #f0f8ff;}#sk-container-id-2 input.sk-toggleable__control:checked~div.sk-toggleable__content {max-height: 200px;max-width: 100%;overflow: auto;}#sk-container-id-2 input.sk-toggleable__control:checked~label.sk-toggleable__label-arrow:before {content: \"▾\";}#sk-container-id-2 div.sk-estimator input.sk-toggleable__control:checked~label.sk-toggleable__label {background-color: #d4ebff;}#sk-container-id-2 div.sk-label input.sk-toggleable__control:checked~label.sk-toggleable__label {background-color: #d4ebff;}#sk-container-id-2 input.sk-hidden--visually {border: 0;clip: rect(1px 1px 1px 1px);clip: rect(1px, 1px, 1px, 1px);height: 1px;margin: -1px;overflow: hidden;padding: 0;position: absolute;width: 1px;}#sk-container-id-2 div.sk-estimator {font-family: monospace;background-color: #f0f8ff;border: 1px dotted black;border-radius: 0.25em;box-sizing: border-box;margin-bottom: 0.5em;}#sk-container-id-2 div.sk-estimator:hover {background-color: #d4ebff;}#sk-container-id-2 div.sk-parallel-item::after {content: \"\";width: 100%;border-bottom: 1px solid gray;flex-grow: 1;}#sk-container-id-2 div.sk-label:hover label.sk-toggleable__label {background-color: #d4ebff;}#sk-container-id-2 div.sk-serial::before {content: \"\";position: absolute;border-left: 1px solid gray;box-sizing: border-box;top: 0;bottom: 0;left: 50%;z-index: 0;}#sk-container-id-2 div.sk-serial {display: flex;flex-direction: column;align-items: center;background-color: white;padding-right: 0.2em;padding-left: 0.2em;position: relative;}#sk-container-id-2 div.sk-item {position: relative;z-index: 1;}#sk-container-id-2 div.sk-parallel {display: flex;align-items: stretch;justify-content: center;background-color: white;position: relative;}#sk-container-id-2 div.sk-item::before, #sk-container-id-2 div.sk-parallel-item::before {content: \"\";position: absolute;border-left: 1px solid gray;box-sizing: border-box;top: 0;bottom: 0;left: 50%;z-index: -1;}#sk-container-id-2 div.sk-parallel-item {display: flex;flex-direction: column;z-index: 1;position: relative;background-color: white;}#sk-container-id-2 div.sk-parallel-item:first-child::after {align-self: flex-end;width: 50%;}#sk-container-id-2 div.sk-parallel-item:last-child::after {align-self: flex-start;width: 50%;}#sk-container-id-2 div.sk-parallel-item:only-child::after {width: 0;}#sk-container-id-2 div.sk-dashed-wrapped {border: 1px dashed gray;margin: 0 0.4em 0.5em 0.4em;box-sizing: border-box;padding-bottom: 0.4em;background-color: white;}#sk-container-id-2 div.sk-label label {font-family: monospace;font-weight: bold;display: inline-block;line-height: 1.2em;}#sk-container-id-2 div.sk-label-container {text-align: center;}#sk-container-id-2 div.sk-container {/* jupyter's `normalize.less` sets `[hidden] { display: none; }` but bootstrap.min.css set `[hidden] { display: none !important; }` so we also need the `!important` here to be able to override the default hidden behavior on the sphinx rendered scikit-learn.org. See: https://github.com/scikit-learn/scikit-learn/issues/21755 */display: inline-block !important;position: relative;}#sk-container-id-2 div.sk-text-repr-fallback {display: none;}</style><div id=\"sk-container-id-2\" class=\"sk-top-container\"><div class=\"sk-text-repr-fallback\"><pre>RandomForestClassifier(random_state=12345)</pre><b>In a Jupyter environment, please rerun this cell to show the HTML representation or trust the notebook. <br />On GitHub, the HTML representation is unable to render, please try loading this page with nbviewer.org.</b></div><div class=\"sk-container\" hidden><div class=\"sk-item\"><div class=\"sk-estimator sk-toggleable\"><input class=\"sk-toggleable__control sk-hidden--visually\" id=\"sk-estimator-id-2\" type=\"checkbox\" checked><label for=\"sk-estimator-id-2\" class=\"sk-toggleable__label sk-toggleable__label-arrow\">RandomForestClassifier</label><div class=\"sk-toggleable__content\"><pre>RandomForestClassifier(random_state=12345)</pre></div></div></div></div></div>"
      ],
      "text/plain": [
       "RandomForestClassifier(random_state=12345)"
      ]
     },
     "execution_count": 18,
     "metadata": {},
     "output_type": "execute_result"
    }
   ],
   "source": [
    "model.fit(X_train, y_train)"
   ]
  },
  {
   "cell_type": "code",
   "execution_count": 19,
   "id": "d0cfa3c4",
   "metadata": {},
   "outputs": [
    {
     "name": "stdout",
     "output_type": "stream",
     "text": [
      "              precision    recall  f1-score   support\n",
      "\n",
      "           0       0.84      0.74      0.79        62\n",
      "           1       0.81      0.82      0.81        72\n",
      "           2       0.86      0.85      0.86        67\n",
      "           3       0.79      0.85      0.81        65\n",
      "           4       0.57      0.72      0.63        53\n",
      "           5       0.82      0.73      0.77        67\n",
      "           6       0.84      0.73      0.78        63\n",
      "           7       0.82      0.78      0.80        54\n",
      "           8       0.80      0.83      0.81        66\n",
      "           9       0.73      0.77      0.75        56\n",
      "\n",
      "    accuracy                           0.78       625\n",
      "   macro avg       0.79      0.78      0.78       625\n",
      "weighted avg       0.79      0.78      0.79       625\n",
      "\n"
     ]
    }
   ],
   "source": [
    "y_pred=model.predict(X_test)\n",
    "print(classification_report(y_test, y_pred))"
   ]
  },
  {
   "cell_type": "code",
   "execution_count": null,
   "id": "3ea6c865",
   "metadata": {},
   "outputs": [],
   "source": []
  }
 ],
 "metadata": {
  "kernelspec": {
   "display_name": "Python 3 (ipykernel)",
   "language": "python",
   "name": "python3"
  },
  "language_info": {
   "codemirror_mode": {
    "name": "ipython",
    "version": 3
   },
   "file_extension": ".py",
   "mimetype": "text/x-python",
   "name": "python",
   "nbconvert_exporter": "python",
   "pygments_lexer": "ipython3",
   "version": "3.8.13"
  }
 },
 "nbformat": 4,
 "nbformat_minor": 5
}
